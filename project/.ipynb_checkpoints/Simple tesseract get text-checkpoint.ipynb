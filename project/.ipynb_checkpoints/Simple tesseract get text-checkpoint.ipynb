{
 "cells": [
  {
   "cell_type": "code",
   "execution_count": 3,
   "metadata": {},
   "outputs": [],
   "source": [
    "import pytesseract\n",
    "from pytesseract import Output\n",
    "import pandas as pd\n",
    "pytesseract.pytesseract.tesseract_cmd=r\"C:\\\\Program Files\\\\Tesseract-OCR\\\\tesseract.exe\"\n",
    "\n",
    "import numpy as np\n",
    "import cv2 # OpenCV biblioteka\n",
    "import matplotlib\n",
    "import matplotlib.pyplot as plt  \n",
    "# iscrtavanje slika i grafika unutar samog browsera\n",
    "%matplotlib inline \n",
    "# prikaz vecih slika \n",
    "matplotlib.rcParams['figure.figsize'] = 16,14"
   ]
  },
  {
   "cell_type": "code",
   "execution_count": 4,
   "metadata": {},
   "outputs": [],
   "source": [
    "custom_config = r'-c preserve_interword_spaces=1 --oem 1 --psm 4'"
   ]
  },
  {
   "cell_type": "code",
   "execution_count": 5,
   "metadata": {},
   "outputs": [],
   "source": [
    "def get_text_with_indentation(image, config):\n",
    "    d = pytesseract.image_to_data(image, config=config, output_type=Output.DICT)\n",
    "    df = pd.DataFrame(d)\n",
    "\n",
    "    final_text = ''\n",
    "\n",
    "    # clean up blanks\n",
    "    df1 = df[(df.conf!='-1')&(df.text!=' ')&(df.text!='')]\n",
    "    # sort blocks vertically\n",
    "    sorted_blocks = df1.groupby('block_num').first().sort_values('top').index.tolist()\n",
    "    for block in sorted_blocks:\n",
    "        curr = df1[df1['block_num']==block]\n",
    "        sel = curr[curr.text.str.len()>3]\n",
    "        char_w = (sel.width/sel.text.str.len()).mean()\n",
    "        prev_par, prev_line, prev_left = 0, 0, 0\n",
    "        text = ''\n",
    "        for ix, ln in curr.iterrows():\n",
    "            # add new line when necessary\n",
    "            if prev_par != ln['par_num']:\n",
    "                text += '\\n'\n",
    "                prev_par = ln['par_num']\n",
    "                prev_line = ln['line_num']\n",
    "                prev_left = 0\n",
    "            elif prev_line != ln['line_num']:\n",
    "                text += '\\n'\n",
    "                prev_line = ln['line_num']\n",
    "                prev_left = 0\n",
    "\n",
    "            added = 0  # num of spaces that should be added\n",
    "            if ln['left']/char_w > prev_left + 1:\n",
    "                added = int((ln['left'])/char_w) - prev_left\n",
    "                text += ' ' * added \n",
    "            text += ln['text'] + ' '\n",
    "            prev_left += len(ln['text']) + added + 1\n",
    "        text += '\\n'\n",
    "        final_text += text\n",
    "\n",
    "    return final_text"
   ]
  },
  {
   "cell_type": "code",
   "execution_count": 11,
   "metadata": {},
   "outputs": [
    {
     "name": "stdout",
     "output_type": "stream",
     "text": [
      "\n",
      "  @GetMapping(path  = \"/{id}\") \n",
      "  public  ResponseEntity<?> findById(@PathVariable  Long id) { \n",
      "\n",
      "      try  { \n",
      "           Admin admin = adminService.findById(id) ; \n",
      "           return new ResponseEntity<>(adminMapper.toDto(admin),   HttpStatus.OK); \n",
      "       } catch (Exception e) { \n",
      "           return new ResponseEntity<>(HttpStatus  .NOT_FOUND) ; \n",
      "\n"
     ]
    }
   ],
   "source": [
    "img = cv2.imread(\"../example2.png\")\n",
    "text = get_text_with_indentation(img, custom_config)\n",
    "print(text)"
   ]
  }
 ],
 "metadata": {
  "kernelspec": {
   "display_name": "Python 3",
   "language": "python",
   "name": "python3"
  },
  "language_info": {
   "codemirror_mode": {
    "name": "ipython",
    "version": 3
   },
   "file_extension": ".py",
   "mimetype": "text/x-python",
   "name": "python",
   "nbconvert_exporter": "python",
   "pygments_lexer": "ipython3",
   "version": "3.6.8"
  }
 },
 "nbformat": 4,
 "nbformat_minor": 2
}
