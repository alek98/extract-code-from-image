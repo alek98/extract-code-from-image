{
 "cells": [
  {
   "cell_type": "code",
   "execution_count": 16,
   "metadata": {},
   "outputs": [],
   "source": [
    "from PIL import Image\n",
    "import pytesseract"
   ]
  },
  {
   "cell_type": "code",
   "execution_count": 18,
   "metadata": {},
   "outputs": [],
   "source": [
    "pytesseract.pytesseract.tesseract_cmd=r\"C:\\\\Program Files\\\\Tesseract-OCR\\\\tesseract.exe\""
   ]
  },
  {
   "cell_type": "markdown",
   "metadata": {},
   "source": [
    "# Simple example how to get text from image"
   ]
  },
  {
   "cell_type": "code",
   "execution_count": 26,
   "metadata": {},
   "outputs": [],
   "source": [
    "image = Image.open('../example1.png')"
   ]
  },
  {
   "cell_type": "code",
   "execution_count": 31,
   "metadata": {},
   "outputs": [],
   "source": [
    "text = pytesseract.image_to_string(image)"
   ]
  },
  {
   "cell_type": "code",
   "execution_count": 149,
   "metadata": {
    "scrolled": true
   },
   "outputs": [
    {
     "name": "stdout",
     "output_type": "stream",
     "text": [
      "\n",
      "   private HttpHeaders  withoutTokenHeaders = new HttpHeaders(); \n",
      "\n",
      "   @Before \n",
      "   public void  login() { \n",
      "       ResponseEntity<AuthUserLoginResponseDTO>  responseEntity =  restTemplate.postForEntity(\"/auth/login”, \n",
      "               new  AuthUserLoginDTO(ADMIN_EMAIL, ADMIN_PASS), AuthUserLoginResponseDTO.class) 5 \n",
      "\n",
      "       String  accessToken =  “Bearer \" + responseEntity.getBody().getAccessToken(); \n",
      "\n",
      "       headers = new HttpHeaders(); \n",
      "       headers.add(\"Authorization\", accessToken) ; \n",
      "\n",
      "        headers . setContentType(MediaType.APPLICATION_JSON) ; \n",
      "        headers.add(\"Content-Type\",   “application/json\") ; \n",
      "\n"
     ]
    }
   ],
   "source": [
    "print(text)"
   ]
  },
  {
   "cell_type": "markdown",
   "metadata": {},
   "source": [
    "# Example with custom config"
   ]
  },
  {
   "cell_type": "code",
   "execution_count": 38,
   "metadata": {},
   "outputs": [],
   "source": [
    "from PIL import Image\n",
    "import pytesseract\n",
    "from pytesseract import Output\n",
    "import pandas as pd\n",
    "pytesseract.pytesseract.tesseract_cmd=r\"C:\\\\Program Files\\\\Tesseract-OCR\\\\tesseract.exe\"\n"
   ]
  },
  {
   "cell_type": "code",
   "execution_count": 135,
   "metadata": {},
   "outputs": [],
   "source": [
    "custom_config = r'-c preserve_interword_spaces=1 --oem 1 --psm 4'"
   ]
  },
  {
   "cell_type": "code",
   "execution_count": 42,
   "metadata": {},
   "outputs": [],
   "source": [
    "image = Image.open('../example1.png')"
   ]
  },
  {
   "cell_type": "code",
   "execution_count": 136,
   "metadata": {},
   "outputs": [
    {
     "name": "stdout",
     "output_type": "stream",
     "text": [
      "private HttpHeaders withoutTokenHeaders = new HttpHeaders();\n",
      "\n",
      "@Before\n",
      "public void login() {\n",
      "ResponseEntity<AuthUserLoginResponseDTO> responseEntity = restTemplate.postForEntity(\"/auth/login”,\n",
      "new AuthUserLoginDTO(ADMIN_EMAIL, ADMIN_PASS), AuthUserLoginResponseDTO.class) 5\n",
      "\n",
      " \n",
      "\n",
      "String accessToken = “Bearer \" + responseEntity.getBody().getAccessToken();\n",
      "\n",
      "headers = new HttpHeaders();\n",
      "headers.add(\"Authorization\", accessToken) ;\n",
      "\n",
      " \n",
      "\n",
      "headers . setContentType(MediaType.APPLICATION_JSON) ;\n",
      "headers.add(\"Content-Type\", “application/json\") ;\n",
      "\n",
      "                                                                                                                                                                                                                                                                  \n",
      "\f",
      "\n"
     ]
    }
   ],
   "source": [
    "text = pytesseract.image_to_string(image, config=custom_config)\n",
    "print(text)"
   ]
  },
  {
   "cell_type": "markdown",
   "metadata": {},
   "source": [
    "# Example with identation and custom config"
   ]
  },
  {
   "cell_type": "markdown",
   "metadata": {},
   "source": [
    "### Function which makes text indentation. Returns idented text"
   ]
  },
  {
   "cell_type": "code",
   "execution_count": 146,
   "metadata": {},
   "outputs": [],
   "source": [
    "def get_text_with_indentation(image, config):\n",
    "    d = pytesseract.image_to_data(image, config=config, output_type=Output.DICT)\n",
    "    df = pd.DataFrame(d)\n",
    "\n",
    "    final_text = ''\n",
    "\n",
    "    # clean up blanks\n",
    "    df1 = df[(df.conf!='-1')&(df.text!=' ')&(df.text!='')]\n",
    "    # sort blocks vertically\n",
    "    sorted_blocks = df1.groupby('block_num').first().sort_values('top').index.tolist()\n",
    "    for block in sorted_blocks:\n",
    "        curr = df1[df1['block_num']==block]\n",
    "        sel = curr[curr.text.str.len()>3]\n",
    "        char_w = (sel.width/sel.text.str.len()).mean()\n",
    "        prev_par, prev_line, prev_left = 0, 0, 0\n",
    "        text = ''\n",
    "        for ix, ln in curr.iterrows():\n",
    "            # add new line when necessary\n",
    "            if prev_par != ln['par_num']:\n",
    "                text += '\\n'\n",
    "                prev_par = ln['par_num']\n",
    "                prev_line = ln['line_num']\n",
    "                prev_left = 0\n",
    "            elif prev_line != ln['line_num']:\n",
    "                text += '\\n'\n",
    "                prev_line = ln['line_num']\n",
    "                prev_left = 0\n",
    "\n",
    "            added = 0  # num of spaces that should be added\n",
    "            if ln['left']/char_w > prev_left + 1:\n",
    "                added = int((ln['left'])/char_w) - prev_left\n",
    "                text += ' ' * added \n",
    "            text += ln['text'] + ' '\n",
    "            prev_left += len(ln['text']) + added + 1\n",
    "        text += '\\n'\n",
    "        final_text += text\n",
    "\n",
    "    return final_text"
   ]
  },
  {
   "cell_type": "markdown",
   "metadata": {},
   "source": [
    "### Pass image and config to get_text_with_indentation function"
   ]
  },
  {
   "cell_type": "code",
   "execution_count": 153,
   "metadata": {},
   "outputs": [
    {
     "name": "stdout",
     "output_type": "stream",
     "text": [
      "\n",
      "   private HttpHeaders  withoutTokenHeaders = new HttpHeaders(); \n",
      "\n",
      "   @Before \n",
      "   public void  login() { \n",
      "       ResponseEntity<AuthUserLoginResponseDTO>  responseEntity =  restTemplate.postForEntity(\"/auth/login”, \n",
      "               new  AuthUserLoginDTO(ADMIN_EMAIL, ADMIN_PASS), AuthUserLoginResponseDTO.class) 5 \n",
      "\n",
      "       String  accessToken =  “Bearer \" + responseEntity.getBody().getAccessToken(); \n",
      "\n",
      "       headers = new HttpHeaders(); \n",
      "       headers.add(\"Authorization\", accessToken) ; \n",
      "\n",
      "        headers . setContentType(MediaType.APPLICATION_JSON) ; \n",
      "        headers.add(\"Content-Type\",   “application/json\") ; \n",
      "\n"
     ]
    }
   ],
   "source": [
    "image = Image.open('../example1.png')\n",
    "custom_config = r'-c preserve_interword_spaces=1 --oem 1 --psm 4'\n",
    "text = get_text_with_indentation(image, custom_config)\n",
    "print(text)"
   ]
  }
 ],
 "metadata": {
  "kernelspec": {
   "display_name": "Python 3",
   "language": "python",
   "name": "python3"
  },
  "language_info": {
   "codemirror_mode": {
    "name": "ipython",
    "version": 3
   },
   "file_extension": ".py",
   "mimetype": "text/x-python",
   "name": "python",
   "nbconvert_exporter": "python",
   "pygments_lexer": "ipython3",
   "version": "3.6.8"
  }
 },
 "nbformat": 4,
 "nbformat_minor": 2
}
