{
 "cells": [
  {
   "cell_type": "code",
   "execution_count": 16,
   "metadata": {},
   "outputs": [],
   "source": [
    "from PIL import Image\n",
    "import pytesseract"
   ]
  },
  {
   "cell_type": "code",
   "execution_count": 18,
   "metadata": {},
   "outputs": [],
   "source": [
    "pytesseract.pytesseract.tesseract_cmd=r\"C:\\\\Program Files\\\\Tesseract-OCR\\\\tesseract.exe\""
   ]
  },
  {
   "cell_type": "markdown",
   "metadata": {},
   "source": [
    "# Simple example how to get text from image"
   ]
  },
  {
   "cell_type": "code",
   "execution_count": 26,
   "metadata": {},
   "outputs": [],
   "source": [
    "image = Image.open('../example1.png')"
   ]
  },
  {
   "cell_type": "code",
   "execution_count": 31,
   "metadata": {},
   "outputs": [],
   "source": [
    "text = pytesseract.image_to_string(image)"
   ]
  },
  {
   "cell_type": "code",
   "execution_count": 149,
   "metadata": {
    "scrolled": true
   },
   "outputs": [
    {
     "name": "stdout",
     "output_type": "stream",
     "text": [
      "\n",
      "   private HttpHeaders  withoutTokenHeaders = new HttpHeaders(); \n",
      "\n",
      "   @Before \n",
      "   public void  login() { \n",
      "       ResponseEntity<AuthUserLoginResponseDTO>  responseEntity =  restTemplate.postForEntity(\"/auth/login”, \n",
      "               new  AuthUserLoginDTO(ADMIN_EMAIL, ADMIN_PASS), AuthUserLoginResponseDTO.class) 5 \n",
      "\n",
      "       String  accessToken =  “Bearer \" + responseEntity.getBody().getAccessToken(); \n",
      "\n",
      "       headers = new HttpHeaders(); \n",
      "       headers.add(\"Authorization\", accessToken) ; \n",
      "\n",
      "        headers . setContentType(MediaType.APPLICATION_JSON) ; \n",
      "        headers.add(\"Content-Type\",   “application/json\") ; \n",
      "\n"
     ]
    }
   ],
   "source": [
    "print(text)"
   ]
  },
  {
   "cell_type": "markdown",
   "metadata": {},
   "source": [
    "# Example with custom config"
   ]
  },
  {
   "cell_type": "code",
   "execution_count": 17,
   "metadata": {},
   "outputs": [],
   "source": [
    "from PIL import Image\n",
    "import pytesseract\n",
    "from pytesseract import Output\n",
    "import pandas as pd\n",
    "pytesseract.pytesseract.tesseract_cmd=r\"C:\\\\Program Files\\\\Tesseract-OCR\\\\tesseract.exe\"\n"
   ]
  },
  {
   "cell_type": "code",
   "execution_count": 15,
   "metadata": {},
   "outputs": [],
   "source": [
    "custom_config = r'-c preserve_interword_spaces=1 --oem 1 --psm 4'"
   ]
  },
  {
   "cell_type": "code",
   "execution_count": 16,
   "metadata": {},
   "outputs": [],
   "source": [
    "image = Image.open('../example1.png')"
   ]
  },
  {
   "cell_type": "code",
   "execution_count": 17,
   "metadata": {},
   "outputs": [
    {
     "name": "stdout",
     "output_type": "stream",
     "text": [
      "private HttpHeaders withoutTokenHeaders = new HttpHeaders();\n",
      "\n",
      "@Before\n",
      "public void login() {\n",
      "ResponseEntity<AuthUserLoginResponseDTO> responseEntity = restTemplate.postForEntity(\"/auth/login”,\n",
      "new AuthUserLoginDTO(ADMIN_EMAIL, ADMIN_PASS), AuthUserLoginResponseDTO.class) 5\n",
      "\n",
      " \n",
      "\n",
      "String accessToken = “Bearer \" + responseEntity.getBody().getAccessToken();\n",
      "\n",
      "headers = new HttpHeaders();\n",
      "headers.add(\"Authorization\", accessToken) ;\n",
      "\n",
      " \n",
      "\n",
      "headers . setContentType(MediaType.APPLICATION_JSON) ;\n",
      "headers.add(\"Content-Type\", “application/json\") ;\n",
      "\n",
      "                                                                                                                                                                                                                                                                  \n",
      "\f",
      "\n"
     ]
    }
   ],
   "source": [
    "text = pytesseract.image_to_string(image, config=custom_config)\n",
    "print(text)"
   ]
  },
  {
   "cell_type": "markdown",
   "metadata": {},
   "source": [
    "# Example with identation and custom config"
   ]
  },
  {
   "cell_type": "markdown",
   "metadata": {},
   "source": [
    "### Function which makes text indentation. Returns idented text"
   ]
  },
  {
   "cell_type": "code",
   "execution_count": 14,
   "metadata": {},
   "outputs": [],
   "source": [
    "def get_text_with_indentation(image, config):\n",
    "    d = pytesseract.image_to_data(image, config=config, output_type=Output.DICT)\n",
    "    df = pd.DataFrame(d)\n",
    "\n",
    "    final_text = ''\n",
    "\n",
    "    # clean up blanks\n",
    "    df1 = df[(df.conf!='-1')&(df.text!=' ')&(df.text!='')]\n",
    "    # sort blocks vertically\n",
    "    sorted_blocks = df1.groupby('block_num').first().sort_values('top').index.tolist()\n",
    "    for block in sorted_blocks:\n",
    "        curr = df1[df1['block_num']==block]\n",
    "        sel = curr[curr.text.str.len()>3]\n",
    "        char_w = (sel.width/sel.text.str.len()).mean()\n",
    "        prev_par, prev_line, prev_left = 0, 0, 0\n",
    "        text = ''\n",
    "        for ix, ln in curr.iterrows():\n",
    "            # add new line when necessary\n",
    "            if prev_par != ln['par_num']:\n",
    "                text += '\\n'\n",
    "                prev_par = ln['par_num']\n",
    "                prev_line = ln['line_num']\n",
    "                prev_left = 0\n",
    "            elif prev_line != ln['line_num']:\n",
    "                text += '\\n'\n",
    "                prev_line = ln['line_num']\n",
    "                prev_left = 0\n",
    "\n",
    "            added = 0  # num of spaces that should be added\n",
    "            if ln['left']/char_w > prev_left + 1:\n",
    "                added = int((ln['left'])/char_w) - prev_left\n",
    "                text += ' ' * added \n",
    "            text += ln['text'] + ' '\n",
    "            prev_left += len(ln['text']) + added + 1\n",
    "        text += '\\n'\n",
    "        final_text += text\n",
    "\n",
    "    return final_text"
   ]
  },
  {
   "cell_type": "markdown",
   "metadata": {},
   "source": [
    "### Pass image and config to get_text_with_indentation function"
   ]
  },
  {
   "cell_type": "code",
   "execution_count": 18,
   "metadata": {},
   "outputs": [
    {
     "name": "stdout",
     "output_type": "stream",
     "text": [
      "\n",
      "   private HttpHeaders  withoutTokenHeaders = new HttpHeaders(); \n",
      "\n",
      "   @Before \n",
      "   public void  login() { \n",
      "       ResponseEntity<AuthUserLoginResponseDTO>  responseEntity =  restTemplate.postForEntity(\"/auth/login”, \n",
      "               new  AuthUserLoginDTO(ADMIN_EMAIL, ADMIN_PASS), AuthUserLoginResponseDTO.class) 5 \n",
      "\n",
      "       String  accessToken =  “Bearer \" + responseEntity.getBody().getAccessToken(); \n",
      "\n",
      "       headers = new HttpHeaders(); \n",
      "       headers.add(\"Authorization\", accessToken) ; \n",
      "\n",
      "        headers . setContentType(MediaType.APPLICATION_JSON) ; \n",
      "        headers.add(\"Content-Type\",   “application/json\") ; \n",
      "\n"
     ]
    }
   ],
   "source": [
    "image = Image.open('../example1.png')\n",
    "custom_config = r'-c preserve_interword_spaces=1 --oem 1 --psm 4'\n",
    "text = get_text_with_indentation(image, custom_config)\n",
    "print(text)"
   ]
  },
  {
   "cell_type": "markdown",
   "metadata": {},
   "source": [
    "## Example with preprocessing image and then using tesseract"
   ]
  },
  {
   "cell_type": "code",
   "execution_count": 2,
   "metadata": {},
   "outputs": [],
   "source": [
    "import numpy as np\n",
    "import cv2 # OpenCV biblioteka\n",
    "import matplotlib\n",
    "import matplotlib.pyplot as plt  \n",
    "\n",
    "# iscrtavanje slika i grafika unutar samog browsera\n",
    "%matplotlib inline \n",
    "# prikaz vecih slika \n",
    "matplotlib.rcParams['figure.figsize'] = 16,14"
   ]
  },
  {
   "cell_type": "code",
   "execution_count": 25,
   "metadata": {},
   "outputs": [],
   "source": [
    "img = cv2.imread('../example2.png')\n",
    "img = cv2.cvtColor(img, cv2.COLOR_BGR2GRAY) \n",
    "# plt.imshow(img, 'gray')"
   ]
  },
  {
   "cell_type": "code",
   "execution_count": 27,
   "metadata": {},
   "outputs": [
    {
     "data": {
      "text/plain": [
       "<matplotlib.image.AxesImage at 0x26ab6340fd0>"
      ]
     },
     "execution_count": 27,
     "metadata": {},
     "output_type": "execute_result"
    },
    {
     "data": {
      "image/png": "[encoded data removed]",
      "text/plain": [
       "<Figure size 432x288 with 1 Axes>"
      ]
     },
     "metadata": {
      "needs_background": "light"
     },
     "output_type": "display_data"
    }
   ],
   "source": [
    "img_gray_threshold = cv2.adaptiveThreshold(img, 255, cv2.ADAPTIVE_THRESH_GAUSSIAN_C, cv2.THRESH_BINARY,31,51)\n",
    "plt.imshow(img_gray_threshold, 'gray')"
   ]
  },
  {
   "cell_type": "code",
   "execution_count": 28,
   "metadata": {},
   "outputs": [
    {
     "name": "stdout",
     "output_type": "stream",
     "text": [
      "\n",
      "  @GetMapping(path  = \"/{id}\") \n",
      "  public  ResponseEntity<?> findById(@PathVariable  Long id)  { \n",
      "\n",
      "      try  { \n",
      "           Admin admin = adminService.findById(id); \n",
      "           return new ResponseEntity<>(adminMapper.taDto(admin),   HttpStatus.OK); \n",
      "       } catch (Exception e) { \n",
      "           return new ResponseEntity<>(HttpStatus  .NOT_FOUND); \n",
      "\n"
     ]
    }
   ],
   "source": [
    "img_gray_threshold_rgb =  cv2.cvtColor(img_gray_threshold, cv2.COLOR_BGR2RGB)\n",
    "text = get_text_with_indentation(img_gray_threshold_rgb, custom_config)\n",
    "print(text)"
   ]
  },
  {
   "cell_type": "markdown",
   "metadata": {},
   "source": [
    "## testing with dark background"
   ]
  },
  {
   "cell_type": "code",
   "execution_count": 24,
   "metadata": {},
   "outputs": [
    {
     "name": "stdout",
     "output_type": "stream",
     "text": [
      "\n",
      "const d = debug(\"danger:networking\") \n",
      "declare const  global: any \n",
      "[ee \n",
      " * Adds logging  to every fetch request  if a global var for “verbose”  is set to true \n",
      " * \n",
      " * Aparam {(string  | fetch.Request)} url the  request \n",
      " * Qparam {fetch.RequestInit}  [init] the  usual options \n",
      " * @returns  {Promise<fetch.Response>} network-y  promise \n",
      " */ \n",
      "export function  api(url: string | node_fetch.Request,  init: node_fetch.Requestinit):  Promise<node_fetch.Response>  { \n",
      "  if (global.verbose  6  global.verbose ==  true)  { \n",
      "    const output  = [\"curl\", \"-i\"] \n",
      "\n",
      "    if (init.method)  { \n",
      "      output .push(~-x ${init.method}~) \n",
      "    } \n",
      "\n",
      "    const showToken  = process.envi/\"DANGER_VERBOSE_SHOW_TOKEN\"[] \n",
      "    const token  = process.env[ \"DANGER_GITHUB_APT_TOKEN\"] \n",
      "\n",
      "    if (init.headers)  { \n",
      "      for  (const prop in init.headers) { \n",
      "        if (init.headers.hasOwnProperty(prop))   { \n",
      "           // Don't show the token for normal  verbose usage \n",
      "           if (init.headers[prop].includes(token)  6  !showToken) { \n",
      "            output.push(*-H\",  ~\"${prop}:  [API TOKEN]*~) \n",
      "            continue \n",
      "           + \n",
      "          output.push(\"-H\",  ~\"${prop}: ${init.headers[prop]}\"~) \n",
      "\n"
     ]
    }
   ],
   "source": [
    "img = cv2.imread(\"../example.jpg\")\n",
    "# img_gray = cv2.cvtColor(img, cv2.COLOR_BGR2GRAY) \n",
    "# img_gray_threshold_dark = cv2.adaptiveThreshold(img_gray, 255, cv2.ADAPTIVE_THRESH_GAUSSIAN_C, cv2.THRESH_BINARY,31,51)\n",
    "# plt.imshow(img_gray_threshold_dark, 'gray')\n",
    "# img_gray_threshold_dark =  cv2.cvtColor(img_gray_threshold_dark, cv2.COLOR_BGR2RGB)\n",
    "text = get_text_with_indentation(img, custom_config)\n",
    "print(text)"
   ]
  }
 ],
 "metadata": {
  "kernelspec": {
   "display_name": "Python 3",
   "language": "python",
   "name": "python3"
  },
  "language_info": {
   "codemirror_mode": {
    "name": "ipython",
    "version": 3
   },
   "file_extension": ".py",
   "mimetype": "text/x-python",
   "name": "python",
   "nbconvert_exporter": "python",
   "pygments_lexer": "ipython3",
   "version": "3.6.8"
  }
 },
 "nbformat": 4,
 "nbformat_minor": 2
}
